{
 "cells": [
  {
   "cell_type": "markdown",
   "metadata": {},
   "source": [
    "# Introduction to NumPy\n",
    "\n",
    "\n",
    "#### 1. Import NumPy under the name np."
   ]
  },
  {
   "cell_type": "code",
   "execution_count": 61,
   "metadata": {},
   "outputs": [],
   "source": [
    "# your code here\n",
    "import numpy as np"
   ]
  },
  {
   "cell_type": "markdown",
   "metadata": {},
   "source": [
    "#### 2. Print your NumPy version."
   ]
  },
  {
   "cell_type": "code",
   "execution_count": 62,
   "metadata": {},
   "outputs": [
    {
     "data": {
      "text/plain": [
       "'1.23.5'"
      ]
     },
     "execution_count": 62,
     "metadata": {},
     "output_type": "execute_result"
    }
   ],
   "source": [
    "# your code here\n",
    "np.__version__\n"
   ]
  },
  {
   "cell_type": "markdown",
   "metadata": {},
   "source": [
    "#### 3. Generate a 2x3x5 3-dimensional array with random values. Assign the array to variable *a*.\n",
    "**Challenge**: there are at least three easy ways that use numpy to generate random arrays. How many ways can you find?"
   ]
  },
  {
   "cell_type": "code",
   "execution_count": 63,
   "metadata": {},
   "outputs": [
    {
     "data": {
      "text/plain": [
       "array([[[ 0,  1,  2,  3,  4],\n",
       "        [ 5,  6,  7,  8,  9],\n",
       "        [10, 11, 12, 13, 14]],\n",
       "\n",
       "       [[15, 16, 17, 18, 19],\n",
       "        [20, 21, 22, 23, 24],\n",
       "        [25, 26, 27, 28, 29]]])"
      ]
     },
     "execution_count": 63,
     "metadata": {},
     "output_type": "execute_result"
    }
   ],
   "source": [
    "# Method 1\n",
    "a = np.arange(30).reshape(2,3,5)\n",
    "a"
   ]
  },
  {
   "cell_type": "code",
   "execution_count": 64,
   "metadata": {},
   "outputs": [
    {
     "data": {
      "text/plain": [
       "array([[[0.32545054, 0.04126653, 0.98948457, 0.64865642, 0.32508049],\n",
       "        [0.94808929, 0.40284932, 0.88467509, 0.0265644 , 0.55061131],\n",
       "        [0.27851537, 0.90529184, 0.61920852, 0.14034329, 0.36185047]],\n",
       "\n",
       "       [[0.10182752, 0.77607491, 0.66501167, 0.09222219, 0.67058259],\n",
       "        [0.4986034 , 0.61500415, 0.37315991, 0.44720822, 0.96040687],\n",
       "        [0.41626028, 0.9278826 , 0.48982485, 0.78509098, 0.4335734 ]]])"
      ]
     },
     "execution_count": 64,
     "metadata": {},
     "output_type": "execute_result"
    }
   ],
   "source": [
    "# Method 2\n",
    "a = np.random.rand(2, 3, 5)\n",
    "a"
   ]
  },
  {
   "cell_type": "code",
   "execution_count": 65,
   "metadata": {},
   "outputs": [
    {
     "data": {
      "text/plain": [
       "array([[[0.45229089, 0.10287763, 0.10401874, 0.97745279, 0.47587307],\n",
       "        [0.67634466, 0.96611386, 0.03327258, 0.9834397 , 0.04822973],\n",
       "        [0.21407142, 0.09143212, 0.21502139, 0.92386161, 0.69052555]],\n",
       "\n",
       "       [[0.46194258, 0.3502103 , 0.37621948, 0.11768154, 0.94888756],\n",
       "        [0.98682886, 0.51813543, 0.11005389, 0.8769725 , 0.48040744],\n",
       "        [0.71129191, 0.63647608, 0.29449785, 0.15505421, 0.67520271]]])"
      ]
     },
     "execution_count": 65,
     "metadata": {},
     "output_type": "execute_result"
    }
   ],
   "source": [
    "# Method 3\n",
    "a = np.random.uniform(low=0, high=1, size=(2, 3, 5))\n",
    "a"
   ]
  },
  {
   "cell_type": "markdown",
   "metadata": {},
   "source": [
    "#### 4. Print *a*.\n"
   ]
  },
  {
   "cell_type": "code",
   "execution_count": 66,
   "metadata": {},
   "outputs": [
    {
     "name": "stdout",
     "output_type": "stream",
     "text": [
      "[[[0.45229089 0.10287763 0.10401874 0.97745279 0.47587307]\n",
      "  [0.67634466 0.96611386 0.03327258 0.9834397  0.04822973]\n",
      "  [0.21407142 0.09143212 0.21502139 0.92386161 0.69052555]]\n",
      "\n",
      " [[0.46194258 0.3502103  0.37621948 0.11768154 0.94888756]\n",
      "  [0.98682886 0.51813543 0.11005389 0.8769725  0.48040744]\n",
      "  [0.71129191 0.63647608 0.29449785 0.15505421 0.67520271]]]\n"
     ]
    }
   ],
   "source": [
    "# your code here\n",
    "print(a)"
   ]
  },
  {
   "cell_type": "markdown",
   "metadata": {},
   "source": [
    "#### 5. Create a 5x2x3 3-dimensional array with all values equaling 1. Assign the array to variable *b*."
   ]
  },
  {
   "cell_type": "code",
   "execution_count": 67,
   "metadata": {},
   "outputs": [],
   "source": [
    "# your code here\n",
    "b = np.ones((5, 2, 3))"
   ]
  },
  {
   "cell_type": "markdown",
   "metadata": {},
   "source": [
    "#### 6. Print *b*.\n"
   ]
  },
  {
   "cell_type": "code",
   "execution_count": 68,
   "metadata": {},
   "outputs": [
    {
     "name": "stdout",
     "output_type": "stream",
     "text": [
      "[[[1. 1. 1.]\n",
      "  [1. 1. 1.]]\n",
      "\n",
      " [[1. 1. 1.]\n",
      "  [1. 1. 1.]]\n",
      "\n",
      " [[1. 1. 1.]\n",
      "  [1. 1. 1.]]\n",
      "\n",
      " [[1. 1. 1.]\n",
      "  [1. 1. 1.]]\n",
      "\n",
      " [[1. 1. 1.]\n",
      "  [1. 1. 1.]]]\n"
     ]
    }
   ],
   "source": [
    "# your code here\n",
    "print(b)"
   ]
  },
  {
   "cell_type": "markdown",
   "metadata": {},
   "source": [
    "#### 7. Do *a* and *b* have the same size? How do you prove that in Python code?"
   ]
  },
  {
   "cell_type": "code",
   "execution_count": 69,
   "metadata": {},
   "outputs": [
    {
     "name": "stdout",
     "output_type": "stream",
     "text": [
      "false\n"
     ]
    },
    {
     "name": "stderr",
     "output_type": "stream",
     "text": [
      "C:\\Users\\marym\\AppData\\Local\\Temp\\ipykernel_18468\\3691629779.py:2: DeprecationWarning: elementwise comparison failed; this will raise an error in the future.\n",
      "  if a == b:\n"
     ]
    }
   ],
   "source": [
    "# your code here\n",
    "if a == b:\n",
    "    print('true')\n",
    "else:\n",
    "    print('false')\n",
    "    \n",
    "#No, no tienen el mismo tamaño"
   ]
  },
  {
   "cell_type": "markdown",
   "metadata": {},
   "source": [
    "#### 8. Are you able to add *a* and *b*? Why or why not?\n"
   ]
  },
  {
   "cell_type": "code",
   "execution_count": 70,
   "metadata": {},
   "outputs": [
    {
     "ename": "ValueError",
     "evalue": "operands could not be broadcast together with shapes (2,3,5) (5,2,3) ",
     "output_type": "error",
     "traceback": [
      "\u001b[1;31m---------------------------------------------------------------------------\u001b[0m",
      "\u001b[1;31mValueError\u001b[0m                                Traceback (most recent call last)",
      "Cell \u001b[1;32mIn[70], line 2\u001b[0m\n\u001b[0;32m      1\u001b[0m \u001b[38;5;66;03m# your answer here\u001b[39;00m\n\u001b[1;32m----> 2\u001b[0m c \u001b[38;5;241m=\u001b[39m \u001b[43ma\u001b[49m\u001b[43m \u001b[49m\u001b[38;5;241;43m+\u001b[39;49m\u001b[43m \u001b[49m\u001b[43mb\u001b[49m\n\u001b[0;32m      3\u001b[0m c\n",
      "\u001b[1;31mValueError\u001b[0m: operands could not be broadcast together with shapes (2,3,5) (5,2,3) "
     ]
    }
   ],
   "source": [
    "# your answer here\n",
    "c = a + b\n",
    "c\n",
    "\n",
    "#No, no se pueden, tienen que tener la misma distribución"
   ]
  },
  {
   "cell_type": "markdown",
   "metadata": {},
   "source": [
    "#### 9. Transpose *b* so that it has the same structure of *a* (i.e. become a 2x3x5 array). Assign the transposed array to variable *c*."
   ]
  },
  {
   "cell_type": "code",
   "execution_count": 71,
   "metadata": {},
   "outputs": [
    {
     "data": {
      "text/plain": [
       "array([[[1., 1., 1., 1., 1.],\n",
       "        [1., 1., 1., 1., 1.],\n",
       "        [1., 1., 1., 1., 1.]],\n",
       "\n",
       "       [[1., 1., 1., 1., 1.],\n",
       "        [1., 1., 1., 1., 1.],\n",
       "        [1., 1., 1., 1., 1.]]])"
      ]
     },
     "execution_count": 71,
     "metadata": {},
     "output_type": "execute_result"
    }
   ],
   "source": [
    "# your code here\n",
    "c = b.transpose((1, 2, 0))\n",
    "c"
   ]
  },
  {
   "cell_type": "markdown",
   "metadata": {},
   "source": [
    "#### 10. Try to add *a* and *c*. Now it should work. Assign the sum to variable *d*. But why does it work now?"
   ]
  },
  {
   "cell_type": "code",
   "execution_count": 72,
   "metadata": {},
   "outputs": [
    {
     "data": {
      "text/plain": [
       "array([[[1.91423347, 1.45308793, 1.48023822, 2.09513433, 2.42476063],\n",
       "        [2.66317352, 2.48424929, 1.14332647, 2.86041219, 1.52863716],\n",
       "        [1.92536333, 1.7279082 , 1.50951925, 2.07891582, 2.36572827]],\n",
       "\n",
       "       [[1.91423347, 1.45308793, 1.48023822, 2.09513433, 2.42476063],\n",
       "        [2.66317352, 2.48424929, 1.14332647, 2.86041219, 1.52863716],\n",
       "        [1.92536333, 1.7279082 , 1.50951925, 2.07891582, 2.36572827]]])"
      ]
     },
     "execution_count": 72,
     "metadata": {},
     "output_type": "execute_result"
    }
   ],
   "source": [
    "# your code/answer here\n",
    "d= sum(a,c)\n",
    "d\n"
   ]
  },
  {
   "cell_type": "markdown",
   "metadata": {},
   "source": [
    "#### 11. Print *a* and *d*. Notice the difference and relation of the two array in terms of the values? Explain."
   ]
  },
  {
   "cell_type": "code",
   "execution_count": 73,
   "metadata": {},
   "outputs": [
    {
     "name": "stdout",
     "output_type": "stream",
     "text": [
      "[[[0.45229089 0.10287763 0.10401874 0.97745279 0.47587307]\n",
      "  [0.67634466 0.96611386 0.03327258 0.9834397  0.04822973]\n",
      "  [0.21407142 0.09143212 0.21502139 0.92386161 0.69052555]]\n",
      "\n",
      " [[0.46194258 0.3502103  0.37621948 0.11768154 0.94888756]\n",
      "  [0.98682886 0.51813543 0.11005389 0.8769725  0.48040744]\n",
      "  [0.71129191 0.63647608 0.29449785 0.15505421 0.67520271]]]\n",
      "-----------------------------------------------------\n",
      "[[[1.91423347 1.45308793 1.48023822 2.09513433 2.42476063]\n",
      "  [2.66317352 2.48424929 1.14332647 2.86041219 1.52863716]\n",
      "  [1.92536333 1.7279082  1.50951925 2.07891582 2.36572827]]\n",
      "\n",
      " [[1.91423347 1.45308793 1.48023822 2.09513433 2.42476063]\n",
      "  [2.66317352 2.48424929 1.14332647 2.86041219 1.52863716]\n",
      "  [1.92536333 1.7279082  1.50951925 2.07891582 2.36572827]]]\n"
     ]
    }
   ],
   "source": [
    "# your code/answer here\n",
    "print(a)\n",
    "print('-----------------------------------------------------')\n",
    "print(d)\n",
    "#No entiendo. La primera es a y la segunda son valores mayores por ser la suma de c + a"
   ]
  },
  {
   "cell_type": "markdown",
   "metadata": {},
   "source": [
    "#### 12. Multiply *a* and *c*. Assign the result to *e*."
   ]
  },
  {
   "cell_type": "code",
   "execution_count": 74,
   "metadata": {},
   "outputs": [
    {
     "data": {
      "text/plain": [
       "array([[[0.45229089, 0.10287763, 0.10401874, 0.97745279, 0.47587307],\n",
       "        [0.67634466, 0.96611386, 0.03327258, 0.9834397 , 0.04822973],\n",
       "        [0.21407142, 0.09143212, 0.21502139, 0.92386161, 0.69052555]],\n",
       "\n",
       "       [[0.46194258, 0.3502103 , 0.37621948, 0.11768154, 0.94888756],\n",
       "        [0.98682886, 0.51813543, 0.11005389, 0.8769725 , 0.48040744],\n",
       "        [0.71129191, 0.63647608, 0.29449785, 0.15505421, 0.67520271]]])"
      ]
     },
     "execution_count": 74,
     "metadata": {},
     "output_type": "execute_result"
    }
   ],
   "source": [
    "# your code here\n",
    "e = a*c\n",
    "e"
   ]
  },
  {
   "cell_type": "markdown",
   "metadata": {},
   "source": [
    "#### 13. Does *e* equal to *a*? Why or why not?\n"
   ]
  },
  {
   "cell_type": "code",
   "execution_count": 75,
   "metadata": {},
   "outputs": [
    {
     "name": "stdout",
     "output_type": "stream",
     "text": [
      "<class 'numpy.ndarray'>\n",
      "<class 'numpy.ndarray'>\n"
     ]
    }
   ],
   "source": [
    "# your code/answer here\n",
    "print(type(e))\n",
    "print(type(a))\n",
    "#Sí, las dos son arrays de numpy"
   ]
  },
  {
   "cell_type": "markdown",
   "metadata": {},
   "source": [
    "#### 14. Identify the max, min, and mean values in *d*. Assign those values to variables *d_max*, *d_min* and *d_mean*."
   ]
  },
  {
   "cell_type": "code",
   "execution_count": 76,
   "metadata": {},
   "outputs": [
    {
     "name": "stdout",
     "output_type": "stream",
     "text": [
      "2.8604121935369995\n",
      "1.1433264713131042\n",
      "1.9769792057956186\n"
     ]
    }
   ],
   "source": [
    "# your code here\n",
    "d_max = np.max(d)\n",
    "print(d_max)\n",
    "d_min = np.min(d)\n",
    "print(d_min)\n",
    "d_mean = np.mean(d)\n",
    "print(d_mean)"
   ]
  },
  {
   "cell_type": "markdown",
   "metadata": {},
   "source": [
    "#### 15. Now we want to label the values in *d*. First create an empty array *f* with the same shape (i.e. 2x3x5) as *d* using `np.empty`.\n"
   ]
  },
  {
   "cell_type": "code",
   "execution_count": 78,
   "metadata": {},
   "outputs": [
    {
     "name": "stdout",
     "output_type": "stream",
     "text": [
      "<class 'numpy.ndarray'>\n"
     ]
    },
    {
     "data": {
      "text/plain": [
       "array([[[0., 0., 0., 0., 0.],\n",
       "        [0., 0., 0., 0., 0.],\n",
       "        [0., 0., 0., 0., 0.]],\n",
       "\n",
       "       [[0., 0., 0., 0., 0.],\n",
       "        [0., 0., 0., 0., 0.],\n",
       "        [0., 0., 0., 0., 0.]]])"
      ]
     },
     "execution_count": 78,
     "metadata": {},
     "output_type": "execute_result"
    }
   ],
   "source": [
    "# your code here\n",
    "f=np.empty([2,3,5])\n",
    "print(type(f))\n",
    "f\n",
    "\n"
   ]
  },
  {
   "cell_type": "markdown",
   "metadata": {},
   "source": [
    "#### 16. Populate the values in *f*. \n",
    "\n",
    "For each value in *d*, if it's larger than *d_min* but smaller than *d_mean*, assign 25 to the corresponding value in *f*. If a value in *d* is larger than *d_mean* but smaller than *d_max*, assign 75 to the corresponding value in *f*. If a value equals to *d_mean*, assign 50 to the corresponding value in *f*. Assign 0 to the corresponding value(s) in *f* for *d_min* in *d*. Assign 100 to the corresponding value(s) in *f* for *d_max* in *d*. In the end, f should have only the following values: 0, 25, 50, 75, and 100.\n",
    "\n",
    "**Note**: you don't have to use Numpy in this question."
   ]
  },
  {
   "cell_type": "code",
   "execution_count": 80,
   "metadata": {},
   "outputs": [
    {
     "name": "stdout",
     "output_type": "stream",
     "text": [
      "[[1.91423347 1.45308793 1.48023822 2.09513433 2.42476063]\n",
      " [2.66317352 2.48424929 1.14332647 2.86041219 1.52863716]\n",
      " [1.92536333 1.7279082  1.50951925 2.07891582 2.36572827]]\n",
      "[[1.91423347 1.45308793 1.48023822 2.09513433 2.42476063]\n",
      " [2.66317352 2.48424929 1.14332647 2.86041219 1.52863716]\n",
      " [1.92536333 1.7279082  1.50951925 2.07891582 2.36572827]]\n"
     ]
    }
   ],
   "source": [
    "for i in d:\n",
    "    print(i)"
   ]
  },
  {
   "cell_type": "code",
   "execution_count": 107,
   "metadata": {},
   "outputs": [
    {
     "name": "stdout",
     "output_type": "stream",
     "text": [
      "100.0\n",
      "1.1433264713131042\n",
      "8.452951726226486\n"
     ]
    },
    {
     "ename": "ValueError",
     "evalue": "The truth value of an array with more than one element is ambiguous. Use a.any() or a.all()",
     "output_type": "error",
     "traceback": [
      "\u001b[1;31m---------------------------------------------------------------------------\u001b[0m",
      "\u001b[1;31mValueError\u001b[0m                                Traceback (most recent call last)",
      "Cell \u001b[1;32mIn[107], line 12\u001b[0m\n\u001b[0;32m      8\u001b[0m \u001b[38;5;28mprint\u001b[39m(d_mean)\n\u001b[0;32m     11\u001b[0m \u001b[38;5;28;01mfor\u001b[39;00m i \u001b[38;5;129;01min\u001b[39;00m d:\n\u001b[1;32m---> 12\u001b[0m     \u001b[38;5;28;01mif\u001b[39;00m \u001b[43mi\u001b[49m\u001b[43m \u001b[49m\u001b[38;5;241;43m==\u001b[39;49m\u001b[43m \u001b[49m\u001b[43md_max\u001b[49m:\n\u001b[0;32m     13\u001b[0m         f\u001b[38;5;241m.\u001b[39mappend[i] \u001b[38;5;241m=\u001b[39m \u001b[38;5;241m100\u001b[39m\n\u001b[0;32m     16\u001b[0m \u001b[38;5;124;03m'''elif d[(d<d_mean) | (d>d_min)]:\u001b[39;00m\n\u001b[0;32m     17\u001b[0m \u001b[38;5;124;03m    d[25]\u001b[39;00m\n\u001b[0;32m     18\u001b[0m \u001b[38;5;124;03melse d[(d>d_mean)| (d<d_max)]:\u001b[39;00m\n\u001b[0;32m     19\u001b[0m \u001b[38;5;124;03m    d[75]\u001b[39;00m\n\u001b[0;32m     20\u001b[0m \u001b[38;5;124;03m'''\u001b[39;00m\n",
      "\u001b[1;31mValueError\u001b[0m: The truth value of an array with more than one element is ambiguous. Use a.any() or a.all()"
     ]
    }
   ],
   "source": [
    "# your code here\n",
    "\n",
    "d_max = np.max(d)\n",
    "print(d_max)\n",
    "d_min = np.min(d)\n",
    "print(d_min)\n",
    "d_mean = np.mean(d)\n",
    "print(d_mean)\n",
    "\n",
    "\n",
    "for i in d:\n",
    "    if i == d_max:\n",
    "        f.append[i] = 100\n",
    "\n",
    "    \n",
    "'''elif d[(d<d_mean) | (d>d_min)]:\n",
    "    d[25]\n",
    "else d[(d>d_mean)| (d<d_max)]:\n",
    "    d[75]\n",
    "'''\n",
    "        \n",
    "print(f)\n",
    "#Nada, no hay manera, me vuelvo loco probando y buscando"
   ]
  },
  {
   "cell_type": "markdown",
   "metadata": {},
   "source": [
    "#### 17. Print *d* and *f*. Do you have your expected *f*?\n",
    "For instance, if your *d* is:\n",
    "```python\n",
    "[[[1.85836099, 1.67064465, 1.62576044, 1.40243961, 1.88454931],\n",
    "[1.75354326, 1.69403643, 1.36729252, 1.61415071, 1.12104981],\n",
    "[1.72201435, 1.1862918 , 1.87078449, 1.7726778 , 1.88180042]],\n",
    "[[1.44747908, 1.31673383, 1.02000951, 1.52218947, 1.97066381],\n",
    "[1.79129243, 1.74983003, 1.96028037, 1.85166831, 1.65450881],\n",
    "[1.18068344, 1.9587381 , 1.00656599, 1.93402165, 1.73514584]]]\n",
    "```\n",
    "Your *f* should be:\n",
    "```python\n",
    "[[[ 75.,  75.,  75.,  25.,  75.],\n",
    "[ 75.,  75.,  25.,  25.,  25.],\n",
    "[ 75.,  25.,  75.,  75.,  75.]],\n",
    "[[ 25.,  25.,  25.,  25., 100.],\n",
    "[ 75.,  75.,  75.,  75.,  75.],\n",
    "[ 25.,  75.,   0.,  75.,  75.]]]\n",
    "```"
   ]
  },
  {
   "cell_type": "code",
   "execution_count": null,
   "metadata": {},
   "outputs": [],
   "source": [
    "# your code here"
   ]
  },
  {
   "cell_type": "markdown",
   "metadata": {},
   "source": [
    "#### 18. Bonus question: instead of using numbers (i.e. 0, 25, 50, 75, and 100), use string values  (\"A\", \"B\", \"C\", \"D\", and \"E\") to label the array elements. For the example above, the expected result is:\n",
    "\n",
    "```python\n",
    "[[[ 'D',  'D',  'D',  'B',  'D'],\n",
    "[ 'D',  'D',  'B',  'B',  'B'],\n",
    "[ 'D',  'B',  'D',  'D',  'D']],\n",
    "[[ 'B',  'B',  'B',  'B',  'E'],\n",
    "[ 'D',  'D',  'D',  'D',  'D'],\n",
    "[ 'B',  'D',   'A',  'D', 'D']]]\n",
    "```\n",
    "**Note**: you don't have to use Numpy in this question."
   ]
  },
  {
   "cell_type": "code",
   "execution_count": null,
   "metadata": {},
   "outputs": [],
   "source": [
    "# your code here"
   ]
  }
 ],
 "metadata": {
  "kernelspec": {
   "display_name": "Python [conda env:m1_env]",
   "language": "python",
   "name": "conda-env-m1_env-py"
  },
  "language_info": {
   "codemirror_mode": {
    "name": "ipython",
    "version": 3
   },
   "file_extension": ".py",
   "mimetype": "text/x-python",
   "name": "python",
   "nbconvert_exporter": "python",
   "pygments_lexer": "ipython3",
   "version": "3.9.16"
  }
 },
 "nbformat": 4,
 "nbformat_minor": 2
}
