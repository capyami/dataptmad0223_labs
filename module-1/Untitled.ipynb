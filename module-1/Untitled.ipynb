{
 "cells": [
  {
   "cell_type": "code",
   "execution_count": null,
   "id": "293eb660",
   "metadata": {},
   "outputs": [],
   "source": [
    "\n",
    "\n",
    "def balanced_num(num):\n",
    "    list_num = [int(x) for x in str(num)]\n",
    "    total_num = len(list_num)\n",
    "    if total_num % 2 == 0:\n",
    "        z = int(total_num)/2\n",
    "        z1=int(z)\n",
    "        z12=z1-1\n",
    "        z13=z1+1\n",
    "        x = list_num[:z12]\n",
    "        y = list_num[z13:]\n",
    "        x1=sum(x)\n",
    "        y1=sum(y)\n",
    "        if x1 == y1:\n",
    "            print('even balanced')\n",
    "        else:\n",
    "            print('even not balanced')\n",
    "    else:\n",
    "        z = int(total_num)/2\n",
    "        z1=int(z)\n",
    "        z12=z1-1\n",
    "        z13=z1+1\n",
    "        x = list_num[:z1]\n",
    "        y = list_num[z13:]\n",
    "        x1=sum(x)\n",
    "        y1=sum(y)\n",
    "        if x1 == y1:\n",
    "            print('odd balanced')\n",
    "        else:\n",
    "            print('odd not balanced')\n"
   ]
  },
  {
   "cell_type": "code",
   "execution_count": null,
   "id": "d6393403",
   "metadata": {},
   "outputs": [],
   "source": [
    "def balanced_num(num):\n",
    "    list_num = [int(x) for x in str(num)]\n",
    "    total_num = len(list_num)\n",
    "    if total_num % 2 == 0:\n",
    "        z = int(total_num)/2\n",
    "        z1=int(z)\n",
    "        z12=z1-1\n",
    "        z13=z1+1\n",
    "        x = list_num[:z12]\n",
    "        y = list_num[z13:]\n",
    "        x1=sum(x)\n",
    "        y1=sum(y)\n",
    "        if x1 == y1:\n",
    "            return('even balanced')\n",
    "        else:\n",
    "            return('even not balanced')\n",
    "    else:\n",
    "        z = int(total_num)/2\n",
    "        z1=int(z)\n",
    "        z12=z1-1\n",
    "        z13=z1+1\n",
    "        x = list_num[:z1]\n",
    "        y = list_num[z13:]\n",
    "        x1=sum(x)\n",
    "        y1=sum(y)\n",
    "        if x1 == y1:\n",
    "            return('odd balanced')\n",
    "        else:\n",
    "            return('odd not balanced')\n",
    "input(num)"
   ]
  },
  {
   "cell_type": "code",
   "execution_count": null,
   "id": "bfea9de8",
   "metadata": {},
   "outputs": [],
   "source": []
  }
 ],
 "metadata": {
  "kernelspec": {
   "display_name": "Python [conda env:m1_env]",
   "language": "python",
   "name": "conda-env-m1_env-py"
  },
  "language_info": {
   "codemirror_mode": {
    "name": "ipython",
    "version": 3
   },
   "file_extension": ".py",
   "mimetype": "text/x-python",
   "name": "python",
   "nbconvert_exporter": "python",
   "pygments_lexer": "ipython3",
   "version": "3.9.16"
  }
 },
 "nbformat": 4,
 "nbformat_minor": 5
}
