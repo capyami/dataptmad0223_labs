{
 "cells": [
  {
   "cell_type": "code",
   "execution_count": 7,
   "id": "e129b49c",
   "metadata": {},
   "outputs": [
    {
     "name": "stdout",
     "output_type": "stream",
     "text": [
      "Welcome to this calculator!\n",
      "It can add and subtract whole numbers from zero to five\n",
      "Please choose your first number (zero to five): one\n",
      "What do you want to do? plus or minus: plus\n",
      "Please choose your second number (zero to five): one\n",
      "1plus1equals2\n",
      "I am not able to answer this question. Check your input.\n",
      "Thanks for using this calculator, goodbye :)\n"
     ]
    }
   ],
   "source": [
    "\"\"\"\n",
    "This is a dumb calculator that can add and subtract whole numbers from zero to five.\n",
    "When you run the code, you are prompted to enter two numbers (in the form of English\n",
    "word instead of number) and the operator sign (also in the form of English word).\n",
    "The code will perform the calculation and give the result if your input is what it\n",
    "expects.\n",
    "\n",
    "The code is very long and messy. Refactor it according to what you have learned about\n",
    "code simplicity and efficiency.\n",
    "\"\"\"\n",
    "\n",
    "print('Welcome to this calculator!')\n",
    "print('It can add and subtract whole numbers from zero to five')\n",
    "a = input('Please choose your first number (zero to five): ')\n",
    "b = input('What do you want to do? plus or minus: ')\n",
    "c = input('Please choose your second number (zero to five): ')\n",
    "\n",
    "if a == 'zero':\n",
    "    a =0\n",
    "if a == 'one':\n",
    "    a = 1\n",
    "if a == 'two':\n",
    "    a = 2\n",
    "if a == 'three':\n",
    "    a = 3\n",
    "if a == 'four':\n",
    "    a = 4\n",
    "if a == 'five':\n",
    "    a = 5\n",
    "    \n",
    "    \n",
    "if c == 'zero':\n",
    "    c =0\n",
    "if c == 'one':\n",
    "    c = 1\n",
    "if c == 'two':\n",
    "    c = 2\n",
    "if c == 'three':\n",
    "    c = 3\n",
    "if c == 'four':\n",
    "    c = 4\n",
    "if c == 'five':\n",
    "    c = 5\n",
    "    \n",
    "if b == 'plus':\n",
    "    d = a + c\n",
    "    print(str(a) + b + str(c) + 'equals'+ str(d))\n",
    "\n",
    "\n",
    "if b == 'minus':\n",
    "    e = a - c\n",
    "    print(str(a) + b + str(c) + 'equals'+ str(d))\n",
    "\n",
    "\n",
    "\n",
    "if (not a == 'zero' and not a == 'one' and not a == 'two' and not a == 'three' and not a == 'four' and not a == 'five') or (not c == 'zero' and not c == 'one' and not c == 'two' and not c == 'three' and not c == 'four' and not c == 'five') or (not b == 'plus' and not b == 'minus'):\n",
    "    print(\"I am not able to answer this question. Check your input.\")\n",
    "\n",
    "print(\"Thanks for using this calculator, goodbye :)\")"
   ]
  },
  {
   "cell_type": "code",
   "execution_count": null,
   "id": "c0c4238b",
   "metadata": {},
   "outputs": [],
   "source": []
  }
 ],
 "metadata": {
  "kernelspec": {
   "display_name": "Python [conda env:m1_env]",
   "language": "python",
   "name": "conda-env-m1_env-py"
  },
  "language_info": {
   "codemirror_mode": {
    "name": "ipython",
    "version": 3
   },
   "file_extension": ".py",
   "mimetype": "text/x-python",
   "name": "python",
   "nbconvert_exporter": "python",
   "pygments_lexer": "ipython3",
   "version": "3.9.16"
  }
 },
 "nbformat": 4,
 "nbformat_minor": 5
}
