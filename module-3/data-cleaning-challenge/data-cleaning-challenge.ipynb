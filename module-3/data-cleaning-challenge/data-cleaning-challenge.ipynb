{
 "cells": [
  {
   "cell_type": "code",
   "execution_count": null,
   "id": "6098b234",
   "metadata": {},
   "outputs": [],
   "source": [
    "import numpy as np\n",
    "import pandas as pd\n",
    "import matplotlib.pyplot as plt\n",
    "import seaborn as sns\n",
    "from datetime import date\n",
    "\n",
    "from sklearn import datasets, ensemble\n",
    "from sklearn.feature_selection import VarianceThreshold\n",
    "from sklearn.feature_selection import SelectKBest\n",
    "from sklearn.feature_selection import f_regression\n",
    "from sklearn.preprocessing import StandardScaler\n",
    "from sklearn.preprocessing import MinMaxScaler\n",
    "from sklearn.preprocessing import RobustScaler\n",
    "\n",
    "from sklearn import datasets\n",
    "from sklearn.datasets import make_regression\n",
    "from sklearn.model_selection import train_test_split\n",
    "import pickle\n",
    "import joblib\n",
    "\n",
    "from sklearn import linear_model\n",
    "from sklearn.linear_model import ElasticNet\n",
    "from sklearn.linear_model import Ridge\n",
    "from sklearn.svm import SVR\n",
    "from sklearn.linear_model import SGDRegressor\n",
    "from sklearn.linear_model import LinearRegression"
   ]
  },
  {
   "cell_type": "code",
   "execution_count": null,
   "id": "b0d65379",
   "metadata": {},
   "outputs": [],
   "source": [
    "flowers = pd.read_csv('./iris-data.csv')"
   ]
  },
  {
   "cell_type": "code",
   "execution_count": null,
   "id": "3972cb7f",
   "metadata": {},
   "outputs": [],
   "source": [
    "flowers.describe()"
   ]
  },
  {
   "cell_type": "code",
   "execution_count": null,
   "id": "6e1f50a4",
   "metadata": {},
   "outputs": [],
   "source": [
    "flowers.info()"
   ]
  },
  {
   "cell_type": "code",
   "execution_count": null,
   "id": "b7e12907",
   "metadata": {},
   "outputs": [],
   "source": [
    "flowers[flowers['petal_width_cm'].isnull()]\n"
   ]
  },
  {
   "cell_type": "code",
   "execution_count": null,
   "id": "5e4a6b8a",
   "metadata": {},
   "outputs": [],
   "source": [
    "flowers = flowers.dropna()\n",
    "flowers.describe()"
   ]
  },
  {
   "cell_type": "code",
   "execution_count": null,
   "id": "8b02ceb0",
   "metadata": {},
   "outputs": [],
   "source": [
    "flowers.info()"
   ]
  },
  {
   "cell_type": "code",
   "execution_count": null,
   "id": "e78ef69f",
   "metadata": {},
   "outputs": [],
   "source": [
    "sns.boxplot(data=flowers, x=\"sepal_width_cm\", y=\"class\", hue=\"class\", dodge=False)"
   ]
  },
  {
   "cell_type": "code",
   "execution_count": null,
   "id": "8ef3fa81",
   "metadata": {},
   "outputs": [],
   "source": [
    "sns.boxplot(data=flowers, x=\"sepal_length_cm\", y=\"class\", hue=\"class\", dodge=False)"
   ]
  },
  {
   "cell_type": "code",
   "execution_count": null,
   "id": "b8b82ed1",
   "metadata": {},
   "outputs": [],
   "source": [
    "sns.boxplot(data=flowers, x=\"petal_length_cm\", y=\"class\", hue=\"class\", dodge=False)"
   ]
  },
  {
   "cell_type": "code",
   "execution_count": null,
   "id": "e713fc96",
   "metadata": {},
   "outputs": [],
   "source": [
    "sns.boxplot(data=flowers, x=\"petal_width_cm\", y=\"class\", hue=\"class\", dodge=False)"
   ]
  },
  {
   "cell_type": "code",
   "execution_count": null,
   "id": "148db431",
   "metadata": {},
   "outputs": [],
   "source": [
    "flowers['class'].unique()"
   ]
  },
  {
   "cell_type": "markdown",
   "id": "9971de60",
   "metadata": {},
   "source": [
    "### Missing values\n",
    "### Encoding\n"
   ]
  },
  {
   "cell_type": "code",
   "execution_count": null,
   "id": "b66417a6",
   "metadata": {},
   "outputs": [],
   "source": [
    "flowers_encoding = flowers.replace({'Iris-setosa': 1 , 'Iris-setossa': 2, 'Iris-versicolor': 3, 'versicolor': 4,\n",
    "       'Iris-virginica': 5}, regex = True)"
   ]
  },
  {
   "cell_type": "code",
   "execution_count": null,
   "id": "57fcc236",
   "metadata": {},
   "outputs": [],
   "source": [
    "flowers_encoding"
   ]
  },
  {
   "cell_type": "code",
   "execution_count": null,
   "id": "f4775ebf",
   "metadata": {},
   "outputs": [],
   "source": [
    "flowers.sort_values(by = 'sepal_length_cm').head(15)"
   ]
  },
  {
   "cell_type": "code",
   "execution_count": null,
   "id": "aaf98c51",
   "metadata": {},
   "outputs": [],
   "source": [
    "flowers_drop_sepal_lenght_outiers = flowers.drop([flowers.index[80], flowers.index[81], flowers.index[79], flowers.index[78], flowers.index[77]])\n",
    "flowers_drop_sepal_lenght_outiers.sort_values(by = 'sepal_width_cm')"
   ]
  },
  {
   "cell_type": "code",
   "execution_count": null,
   "id": "baa210c5",
   "metadata": {},
   "outputs": [],
   "source": [
    "flowers_drop_sepal_lenght_outiers.corr()"
   ]
  },
  {
   "cell_type": "code",
   "execution_count": null,
   "id": "c64e7d87",
   "metadata": {},
   "outputs": [],
   "source": [
    "flowers_encoding.corr()"
   ]
  },
  {
   "cell_type": "code",
   "execution_count": null,
   "id": "a52cc247",
   "metadata": {},
   "outputs": [],
   "source": [
    "encoding = {'Iris-setosa': 1 , 'Iris-setossa': 2, 'Iris-versicolor': 3, 'versicolor': 4,\n",
    "       'Iris-virginica': 5}\n",
    "def class_encoding(x):\n",
    "    for key in encoding:\n",
    "        if x == key:\n",
    "            return encoding[key]"
   ]
  },
  {
   "cell_type": "code",
   "execution_count": null,
   "id": "16d8e1ea",
   "metadata": {},
   "outputs": [],
   "source": [
    "flowers['Class_encoding'] = flowers_drop_sepal_lenght_outiers['class'].apply(class_encoding)\n",
    "flowers "
   ]
  },
  {
   "cell_type": "code",
   "execution_count": null,
   "id": "90936d22",
   "metadata": {},
   "outputs": [],
   "source": [
    "flowers.info()"
   ]
  },
  {
   "cell_type": "code",
   "execution_count": null,
   "id": "24112cfa",
   "metadata": {},
   "outputs": [],
   "source": [
    "flowers[flowers['class'].isin(['Iris-versicolor'])]\n"
   ]
  },
  {
   "cell_type": "markdown",
   "id": "d2c86a78",
   "metadata": {},
   "source": [
    "individual stats"
   ]
  },
  {
   "cell_type": "code",
   "execution_count": null,
   "id": "226d2e7b",
   "metadata": {},
   "outputs": [],
   "source": [
    "flowers[flowers['Class_encoding'].isnull()]"
   ]
  },
  {
   "cell_type": "code",
   "execution_count": null,
   "id": "53135c87",
   "metadata": {},
   "outputs": [],
   "source": [
    "flowers = flowers.fillna(3.0)\n",
    "flowers.columns"
   ]
  },
  {
   "cell_type": "code",
   "execution_count": null,
   "id": "c0469e33",
   "metadata": {},
   "outputs": [],
   "source": [
    "flowers_test = flowers[['sepal_length_cm', 'sepal_width_cm', 'petal_length_cm',\n",
    "       'petal_width_cm', 'Class_encoding']]\n",
    "flowers_test"
   ]
  },
  {
   "cell_type": "code",
   "execution_count": null,
   "id": "89b1f072",
   "metadata": {},
   "outputs": [],
   "source": [
    "cat_cols = ['sepal_length_cm', 'sepal_width_cm', 'petal_length_cm',\n",
    "       'petal_width_cm', 'Class_encoding']\n",
    "flowers_one_hot_encoding = pd.get_dummies(flowers[cat_cols], \n",
    "                                          columns=['Class_encoding'])\n",
    "flowers_one_hot_encoding.columns"
   ]
  },
  {
   "cell_type": "markdown",
   "id": "e6730e1d",
   "metadata": {},
   "source": [
    "### Scaling"
   ]
  },
  {
   "cell_type": "markdown",
   "id": "203978c6",
   "metadata": {},
   "source": [
    "Standarization, Z-Score"
   ]
  },
  {
   "cell_type": "code",
   "execution_count": null,
   "id": "9b347f1c",
   "metadata": {},
   "outputs": [],
   "source": [
    "# Using scikit-learn .StandardScaler()\n",
    "\n",
    "scaler_st = StandardScaler()\n",
    "scaled_flowers_one_st = scaler_st.fit_transform(flowers_one_hot_encoding)\n",
    "scaled_flowers_one_st"
   ]
  },
  {
   "cell_type": "code",
   "execution_count": null,
   "id": "0325095c",
   "metadata": {},
   "outputs": [],
   "source": [
    "scaled_df1 = pd.DataFrame(scaled_flowers_one_st, columns=['sepal_length_cm', 'sepal_width_cm', 'petal_length_cm',\n",
    "       'petal_width_cm', 'Class_encoding_1.0', 'Class_encoding_2.0',\n",
    "       'Class_encoding_3.0', 'Class_encoding_4.0', 'Class_encoding_5.0'])\n",
    "scaled_df1"
   ]
  },
  {
   "cell_type": "markdown",
   "id": "7f45fe4c",
   "metadata": {},
   "source": [
    "Normalization, MinMax"
   ]
  },
  {
   "cell_type": "code",
   "execution_count": null,
   "id": "76446e66",
   "metadata": {},
   "outputs": [],
   "source": [
    "# Using scikit-learn .MinMaxScaler()\n",
    "\n",
    "scaler_norm = MinMaxScaler()\n",
    "scaled_flowers_one_norm = scaler_norm.fit_transform(flowers_one_hot_encoding)\n",
    "scaled_flowers_one_norm"
   ]
  },
  {
   "cell_type": "code",
   "execution_count": null,
   "id": "3da05478",
   "metadata": {},
   "outputs": [],
   "source": [
    "scaled_df2 = pd.DataFrame(scaled_flowers_one_norm, columns=['sepal_length_cm', 'sepal_width_cm', 'petal_length_cm',\n",
    "       'petal_width_cm', 'Class_encoding_1.0', 'Class_encoding_2.0',\n",
    "       'Class_encoding_3.0', 'Class_encoding_4.0', 'Class_encoding_5.0'])\n",
    "scaled_df2"
   ]
  },
  {
   "cell_type": "code",
   "execution_count": null,
   "id": "9deeea24",
   "metadata": {},
   "outputs": [],
   "source": []
  },
  {
   "cell_type": "code",
   "execution_count": null,
   "id": "ee63e178",
   "metadata": {},
   "outputs": [],
   "source": []
  },
  {
   "cell_type": "markdown",
   "id": "2bb4954b",
   "metadata": {},
   "source": [
    "---"
   ]
  },
  {
   "cell_type": "markdown",
   "id": "f4ff6fe7",
   "metadata": {},
   "source": [
    "# Bonus, proof tests"
   ]
  },
  {
   "cell_type": "markdown",
   "id": "b5ff89d7",
   "metadata": {},
   "source": [
    "### Feature selection"
   ]
  },
  {
   "cell_type": "markdown",
   "id": "9ce8fcd8",
   "metadata": {},
   "source": [
    "### Feature engineering"
   ]
  },
  {
   "cell_type": "code",
   "execution_count": null,
   "id": "5ceda6c0",
   "metadata": {},
   "outputs": [],
   "source": [
    "# Numerical binning\n",
    "\n",
    "'''vehicles['num_bin'] = pd.cut(vehicles['Fuel Cost/Year'], bins=3, labels=[\"Low\", \"Mid\", \"High\"])\n",
    "vehicles['num_bin'].unique()'''"
   ]
  },
  {
   "cell_type": "markdown",
   "id": "cba7ff72",
   "metadata": {},
   "source": [
    "### Modeling"
   ]
  },
  {
   "cell_type": "code",
   "execution_count": null,
   "id": "47386ba8",
   "metadata": {},
   "outputs": [],
   "source": [
    "y_col = ['Class_encoding']\n",
    "y = flowers_test[y_col]\n",
    "X = flowers_test[flowers_test.columns.drop(y_col)]"
   ]
  },
  {
   "cell_type": "code",
   "execution_count": null,
   "id": "6f279900",
   "metadata": {},
   "outputs": [],
   "source": [
    "X_train, X_test, y_train, y_test = train_test_split(X, y, test_size=0.2, random_state=42)\n",
    "print(f\"X_train: {X_train.shape}, X_test: {X_test.shape}, y_train: {y_train.shape}, y_test: {y_test.shape}\")\n",
    "#print(f\"X_train: {type(X_train)}, X_test: {type(X_test)}, y_train: {type(y_train)}, y_test: {type(y_test)}\")"
   ]
  },
  {
   "cell_type": "code",
   "execution_count": null,
   "id": "d789dd03",
   "metadata": {},
   "outputs": [],
   "source": [
    "%%time\n",
    "\n",
    "# Model definition\n",
    "\n",
    "model = LinearRegression()\n",
    "#model = linear_model.Lasso()\n",
    "#model = Ridge()\n",
    "#model = ElasticNet()\n",
    "\n",
    "#model = SVR()\n",
    "#model = SGDRegressor()\n",
    "\n",
    "hyperparameters = model.get_params()\n",
    "\n",
    "print(type(model), '\\n')\n",
    "print('Model hyperparameters:', hyperparameters, '\\n')"
   ]
  },
  {
   "cell_type": "code",
   "execution_count": null,
   "id": "c976d1ce",
   "metadata": {},
   "outputs": [],
   "source": [
    "%%time\n",
    "\n",
    "# Model training\n",
    "\n",
    "model.fit(X_train, y_train)\n",
    "\n",
    "print('Model:', model, '\\n')\n",
    "print('Model hyperparameters:', hyperparameters, '\\n')\n",
    "print('Model coefficients:', model.coef_, '\\n')"
   ]
  },
  {
   "cell_type": "code",
   "execution_count": null,
   "id": "e14a71b1",
   "metadata": {},
   "outputs": [],
   "source": [
    "%%time\n",
    "\n",
    "# Model predictions\n",
    "\n",
    "predictions = model.predict(X_test)\n",
    "\n",
    "print(type(predictions))"
   ]
  },
  {
   "cell_type": "code",
   "execution_count": null,
   "id": "5b72fe4a",
   "metadata": {},
   "outputs": [],
   "source": [
    "# Visual check\n",
    "\n",
    "check = pd.DataFrame({'Ground truth':y_test, 'Predictions':predictions, 'Diff':y_test-predictions})\n",
    "check"
   ]
  },
  {
   "cell_type": "code",
   "execution_count": null,
   "id": "b0768476",
   "metadata": {},
   "outputs": [],
   "source": [
    "check.reset_index(inplace=True)\n",
    "\n",
    "check.plot(x='index', y=['Ground truth', 'Predictions'], kind='line', figsize=(10, 3));"
   ]
  },
  {
   "cell_type": "markdown",
   "id": "a3518bce",
   "metadata": {},
   "source": [
    "## Saved model"
   ]
  },
  {
   "cell_type": "code",
   "execution_count": null,
   "id": "2618eeb7",
   "metadata": {},
   "outputs": [],
   "source": [
    "# Save model using joblib\n",
    "\n",
    "filename = './models/linearregression_002.sav'\n",
    "joblib.dump(model, filename)\n",
    "print('Your model has been saved with joblib!!!')"
   ]
  },
  {
   "cell_type": "code",
   "execution_count": null,
   "id": "9252c027",
   "metadata": {},
   "outputs": [],
   "source": [
    "# Load model using joblib\n",
    "\n",
    "filename = './models/linearregression_002.sav'\n",
    "loaded_model = joblib.load(filename)\n",
    "print('Model coefficients:', model.coef_, '\\n')\n",
    "print('Loaded model coefficients:', loaded_model.coef_)"
   ]
  }
 ],
 "metadata": {
  "kernelspec": {
   "display_name": "Python [conda env:m3_env]",
   "language": "python",
   "name": "conda-env-m3_env-py"
  },
  "language_info": {
   "codemirror_mode": {
    "name": "ipython",
    "version": 3
   },
   "file_extension": ".py",
   "mimetype": "text/x-python",
   "name": "python",
   "nbconvert_exporter": "python",
   "pygments_lexer": "ipython3",
   "version": "3.11.3"
  }
 },
 "nbformat": 4,
 "nbformat_minor": 5
}
