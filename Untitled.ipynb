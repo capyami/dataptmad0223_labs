{
 "cells": [
  {
   "cell_type": "code",
   "execution_count": null,
   "id": "b3a88915",
   "metadata": {},
   "outputs": [],
   "source": [
    "'''\n",
    "upper and lower cases for \"english\"\n"
   ]
  },
  {
   "cell_type": "code",
   "execution_count": null,
   "id": "f44f441f",
   "metadata": {},
   "outputs": [],
   "source": [
    "\n",
    "\n",
    "def sp_eng(sentence): \n",
    "    \n",
    "    pass"
   ]
  },
  {
   "cell_type": "raw",
   "id": "e1ecb49f",
   "metadata": {},
   "source": []
  },
  {
   "cell_type": "code",
   "execution_count": 34,
   "id": "3776d7be",
   "metadata": {},
   "outputs": [],
   "source": [
    "sentence = ('englsh jnfsjdengish')\n",
    "\n",
    "def sp_eng(sentence): \n",
    "  \n",
    "    eng = ('english')\n",
    "\n",
    "\n",
    "    x = str.casefold('english')\n",
    "    if x in sentence:\n",
    "        return True\n",
    "    else:\n",
    "        return False\n",
    "pass"
   ]
  },
  {
   "cell_type": "code",
   "execution_count": null,
   "id": "c2bbc23d",
   "metadata": {},
   "outputs": [],
   "source": [
    "variable1 = ('englsh jnfsjdengish')\n",
    "eng = ('english')\n",
    "\n",
    "\n",
    "x = ('english')\n",
    "english = variable1.find(eng)\n",
    "if x in variable1:\n",
    "    print(True)\n",
    "else:\n",
    "    print(False)\n",
    "    \n",
    " english = sentence.find(eng)"
   ]
  },
  {
   "cell_type": "markdown",
   "id": "5ecd7550",
   "metadata": {},
   "source": [
    "# "
   ]
  },
  {
   "cell_type": "code",
   "execution_count": 18,
   "id": "0d5f1174",
   "metadata": {},
   "outputs": [
    {
     "ename": "NameError",
     "evalue": "name 'find' is not defined",
     "output_type": "error",
     "traceback": [
      "\u001b[1;31m---------------------------------------------------------------------------\u001b[0m",
      "\u001b[1;31mNameError\u001b[0m                                 Traceback (most recent call last)",
      "Cell \u001b[1;32mIn[18], line 3\u001b[0m\n\u001b[0;32m      1\u001b[0m variable1 \u001b[38;5;241m=\u001b[39m (\u001b[38;5;124m'\u001b[39m\u001b[38;5;124menglish jnfsjdengish\u001b[39m\u001b[38;5;124m'\u001b[39m)\n\u001b[1;32m----> 3\u001b[0m y \u001b[38;5;241m=\u001b[39m \u001b[43mfind\u001b[49m(\u001b[38;5;124m'\u001b[39m\u001b[38;5;124menglish\u001b[39m\u001b[38;5;124m'\u001b[39m)\n\u001b[0;32m      5\u001b[0m \u001b[38;5;28;01mfor\u001b[39;00m x \u001b[38;5;129;01min\u001b[39;00m variable1:\n\u001b[0;32m      6\u001b[0m     \u001b[38;5;28;01mif\u001b[39;00m x \u001b[38;5;241m==\u001b[39m find(\u001b[38;5;28mstr\u001b[39m\u001b[38;5;241m.\u001b[39mcasefold(\u001b[38;5;124m'\u001b[39m\u001b[38;5;124menglish\u001b[39m\u001b[38;5;124m'\u001b[39m)):\n",
      "\u001b[1;31mNameError\u001b[0m: name 'find' is not defined"
     ]
    }
   ],
   "source": [
    "\n",
    "y = find\n",
    "\n",
    "for x in variable1:\n",
    "    if x == find(str.casefold('english')):\n",
    "        print(True)\n",
    "else:\n",
    "    print(False)\n",
    "        "
   ]
  }
 ],
 "metadata": {
  "kernelspec": {
   "display_name": "Python [conda env:m1_env]",
   "language": "python",
   "name": "conda-env-m1_env-py"
  },
  "language_info": {
   "codemirror_mode": {
    "name": "ipython",
    "version": 3
   },
   "file_extension": ".py",
   "mimetype": "text/x-python",
   "name": "python",
   "nbconvert_exporter": "python",
   "pygments_lexer": "ipython3",
   "version": "3.9.16"
  }
 },
 "nbformat": 4,
 "nbformat_minor": 5
}
